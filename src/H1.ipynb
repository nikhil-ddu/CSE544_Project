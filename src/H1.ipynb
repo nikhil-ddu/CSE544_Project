{
 "cells": [
  {
   "cell_type": "code",
   "execution_count": 1,
   "metadata": {},
   "outputs": [],
   "source": [
    "import pandas as pd\n",
    "import numpy as np\n",
    "import collections\n",
    "df = pd.read_csv('Master_Loan_Summary.csv', engine='python')"
   ]
  },
  {
   "cell_type": "code",
   "execution_count": 2,
   "metadata": {},
   "outputs": [],
   "source": [
    "ppaid=df[\"principal_paid\"]\n",
    "ppaid = list(ppaid)\n",
    "total = len(ppaid)\n",
    "#print(ppaid.count(40000))\n",
    "#print(max(ppaid))\n",
    "neg = [o for o in ppaid if o < 0 ]\n",
    "ppaid = [x for x in ppaid if x not in neg]"
   ]
  },
  {
   "cell_type": "code",
   "execution_count": 4,
   "metadata": {},
   "outputs": [
    {
     "name": "stdout",
     "output_type": "stream",
     "text": [
      "For mean =  500  not exponential\n",
      "For mean =  1000  not exponential\n",
      "For mean =  2000  not exponential\n"
     ]
    }
   ],
   "source": [
    "unq = collections.Counter(ppaid).most_common()\n",
    "unq = sorted(unq, key=lambda tup:tup[0])\n",
    "totalunq = len(unq)\n",
    "means = [500,1000, 2000]\n",
    "C = 0.15\n",
    "for idx in range(len(means)):\n",
    "    lamda = 1/means[idx]\n",
    "\n",
    "    fx = [1-np.exp(-lamda*x) for (x,_) in unq]\n",
    "    fyn = [0]\n",
    "    fyp = []\n",
    "    for i in range(1, totalunq):\n",
    "        fyn.append(fyn[i-1] + (unq[i-1][1]/total))\n",
    "        fyp.append(fyn[i])\n",
    "    fyp.append(1)\n",
    "\n",
    "    negd = np.subtract(fx, fyn)\n",
    "    negd = [abs(x) for x in negd]\n",
    "\n",
    "    posd = np.subtract(fx, fyp)\n",
    "    posd = [abs(x) for x in posd]\n",
    "\n",
    "    #print(max(negd), max(posd))\n",
    "    if(max(negd)>0.15 or max(posd)>0.15):\n",
    "        print('For mean = ', means[idx] ,' not exponential')\n",
    "    else:\n",
    "        print('For mean = ', means[idx] ,' exponential')"
   ]
  },
  {
   "cell_type": "code",
   "execution_count": null,
   "metadata": {
    "scrolled": true
   },
   "outputs": [],
   "source": []
  },
  {
   "cell_type": "code",
   "execution_count": null,
   "metadata": {},
   "outputs": [],
   "source": []
  },
  {
   "cell_type": "code",
   "execution_count": null,
   "metadata": {},
   "outputs": [],
   "source": []
  },
  {
   "cell_type": "code",
   "execution_count": null,
   "metadata": {},
   "outputs": [],
   "source": []
  }
 ],
 "metadata": {
  "kernelspec": {
   "display_name": "Python 3",
   "language": "python",
   "name": "python3"
  },
  "language_info": {
   "codemirror_mode": {
    "name": "ipython",
    "version": 3
   },
   "file_extension": ".py",
   "mimetype": "text/x-python",
   "name": "python",
   "nbconvert_exporter": "python",
   "pygments_lexer": "ipython3",
   "version": "3.6.6"
  }
 },
 "nbformat": 4,
 "nbformat_minor": 2
}
