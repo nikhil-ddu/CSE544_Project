{
 "cells": [
  {
   "cell_type": "markdown",
   "metadata": {},
   "source": [
    "#### Hypothesis: amount of loan lent per month is a time series. We try to predict total amount that will be lent on a month"
   ]
  },
  {
   "cell_type": "code",
   "execution_count": 1,
   "metadata": {},
   "outputs": [],
   "source": [
    "import numpy as np"
   ]
  },
  {
   "cell_type": "code",
   "execution_count": 2,
   "metadata": {},
   "outputs": [],
   "source": [
    "import pandas as pd"
   ]
  },
  {
   "cell_type": "code",
   "execution_count": 90,
   "metadata": {},
   "outputs": [],
   "source": [
    "import matplotlib.pyplot as plt\n",
    "import pylab"
   ]
  },
  {
   "cell_type": "code",
   "execution_count": 67,
   "metadata": {},
   "outputs": [
    {
     "name": "stderr",
     "output_type": "stream",
     "text": [
      "/Users/naimulhoque/anaconda3/lib/python3.7/site-packages/IPython/core/interactiveshell.py:2785: DtypeWarning: Columns (7) have mixed types. Specify dtype option on import or set low_memory=False.\n",
      "  interactivity=interactivity, compiler=compiler, result=result)\n"
     ]
    }
   ],
   "source": [
    "df = pd.read_csv(\"Master_Loan_Summary.csv\")"
   ]
  },
  {
   "cell_type": "code",
   "execution_count": 68,
   "metadata": {},
   "outputs": [],
   "source": [
    "df = df[[\"origination_date\",\"amount_borrowed\",\"data_source\"]]"
   ]
  },
  {
   "cell_type": "code",
   "execution_count": 69,
   "metadata": {},
   "outputs": [
    {
     "data": {
      "text/html": [
       "<div>\n",
       "<style scoped>\n",
       "    .dataframe tbody tr th:only-of-type {\n",
       "        vertical-align: middle;\n",
       "    }\n",
       "\n",
       "    .dataframe tbody tr th {\n",
       "        vertical-align: top;\n",
       "    }\n",
       "\n",
       "    .dataframe thead th {\n",
       "        text-align: right;\n",
       "    }\n",
       "</style>\n",
       "<table border=\"1\" class=\"dataframe\">\n",
       "  <thead>\n",
       "    <tr style=\"text-align: right;\">\n",
       "      <th></th>\n",
       "      <th>origination_date</th>\n",
       "      <th>amount_borrowed</th>\n",
       "      <th>data_source</th>\n",
       "    </tr>\n",
       "  </thead>\n",
       "  <tbody>\n",
       "    <tr>\n",
       "      <th>0</th>\n",
       "      <td>2013-12-01T00:00</td>\n",
       "      <td>27050.0</td>\n",
       "      <td>Lending Club</td>\n",
       "    </tr>\n",
       "    <tr>\n",
       "      <th>1</th>\n",
       "      <td>2013-12-01T00:00</td>\n",
       "      <td>4800.0</td>\n",
       "      <td>Lending Club</td>\n",
       "    </tr>\n",
       "    <tr>\n",
       "      <th>2</th>\n",
       "      <td>2013-12-01T00:00</td>\n",
       "      <td>12000.0</td>\n",
       "      <td>Lending Club</td>\n",
       "    </tr>\n",
       "    <tr>\n",
       "      <th>3</th>\n",
       "      <td>2013-12-01T00:00</td>\n",
       "      <td>12000.0</td>\n",
       "      <td>Lending Club</td>\n",
       "    </tr>\n",
       "    <tr>\n",
       "      <th>4</th>\n",
       "      <td>2013-12-01T00:00</td>\n",
       "      <td>12000.0</td>\n",
       "      <td>Lending Club</td>\n",
       "    </tr>\n",
       "  </tbody>\n",
       "</table>\n",
       "</div>"
      ],
      "text/plain": [
       "   origination_date  amount_borrowed   data_source\n",
       "0  2013-12-01T00:00          27050.0  Lending Club\n",
       "1  2013-12-01T00:00           4800.0  Lending Club\n",
       "2  2013-12-01T00:00          12000.0  Lending Club\n",
       "3  2013-12-01T00:00          12000.0  Lending Club\n",
       "4  2013-12-01T00:00          12000.0  Lending Club"
      ]
     },
     "execution_count": 69,
     "metadata": {},
     "output_type": "execute_result"
    }
   ],
   "source": [
    "df.head()"
   ]
  },
  {
   "cell_type": "code",
   "execution_count": 70,
   "metadata": {},
   "outputs": [],
   "source": [
    "def make_feature(df):\n",
    "    \n",
    "    date = [] \n",
    "    #months = []\n",
    "    \n",
    "    for index, row in df.iterrows():\n",
    "                \n",
    "        #Calculate year and month\n",
    "        year,month,day = row['origination_date'].split('-')     \n",
    "        \n",
    "        date.append(year+month)\n",
    "        #months.append(month)\n",
    "                 \n",
    "        \n",
    "    df[\"date\"] = date\n",
    "    #df[\"month\"] = months\n",
    "    \n",
    "    return df"
   ]
  },
  {
   "cell_type": "code",
   "execution_count": 71,
   "metadata": {},
   "outputs": [],
   "source": [
    "df = make_feature(df)"
   ]
  },
  {
   "cell_type": "code",
   "execution_count": 72,
   "metadata": {},
   "outputs": [
    {
     "data": {
      "text/html": [
       "<div>\n",
       "<style scoped>\n",
       "    .dataframe tbody tr th:only-of-type {\n",
       "        vertical-align: middle;\n",
       "    }\n",
       "\n",
       "    .dataframe tbody tr th {\n",
       "        vertical-align: top;\n",
       "    }\n",
       "\n",
       "    .dataframe thead th {\n",
       "        text-align: right;\n",
       "    }\n",
       "</style>\n",
       "<table border=\"1\" class=\"dataframe\">\n",
       "  <thead>\n",
       "    <tr style=\"text-align: right;\">\n",
       "      <th></th>\n",
       "      <th>origination_date</th>\n",
       "      <th>amount_borrowed</th>\n",
       "      <th>data_source</th>\n",
       "      <th>date</th>\n",
       "    </tr>\n",
       "  </thead>\n",
       "  <tbody>\n",
       "    <tr>\n",
       "      <th>0</th>\n",
       "      <td>2013-12-01T00:00</td>\n",
       "      <td>27050.0</td>\n",
       "      <td>Lending Club</td>\n",
       "      <td>201312</td>\n",
       "    </tr>\n",
       "    <tr>\n",
       "      <th>1</th>\n",
       "      <td>2013-12-01T00:00</td>\n",
       "      <td>4800.0</td>\n",
       "      <td>Lending Club</td>\n",
       "      <td>201312</td>\n",
       "    </tr>\n",
       "    <tr>\n",
       "      <th>2</th>\n",
       "      <td>2013-12-01T00:00</td>\n",
       "      <td>12000.0</td>\n",
       "      <td>Lending Club</td>\n",
       "      <td>201312</td>\n",
       "    </tr>\n",
       "    <tr>\n",
       "      <th>3</th>\n",
       "      <td>2013-12-01T00:00</td>\n",
       "      <td>12000.0</td>\n",
       "      <td>Lending Club</td>\n",
       "      <td>201312</td>\n",
       "    </tr>\n",
       "    <tr>\n",
       "      <th>4</th>\n",
       "      <td>2013-12-01T00:00</td>\n",
       "      <td>12000.0</td>\n",
       "      <td>Lending Club</td>\n",
       "      <td>201312</td>\n",
       "    </tr>\n",
       "  </tbody>\n",
       "</table>\n",
       "</div>"
      ],
      "text/plain": [
       "   origination_date  amount_borrowed   data_source    date\n",
       "0  2013-12-01T00:00          27050.0  Lending Club  201312\n",
       "1  2013-12-01T00:00           4800.0  Lending Club  201312\n",
       "2  2013-12-01T00:00          12000.0  Lending Club  201312\n",
       "3  2013-12-01T00:00          12000.0  Lending Club  201312\n",
       "4  2013-12-01T00:00          12000.0  Lending Club  201312"
      ]
     },
     "execution_count": 72,
     "metadata": {},
     "output_type": "execute_result"
    }
   ],
   "source": [
    "df.head()"
   ]
  },
  {
   "cell_type": "code",
   "execution_count": 73,
   "metadata": {},
   "outputs": [
    {
     "name": "stdout",
     "output_type": "stream",
     "text": [
      "['201312' '201311' '201310' '201309' '201308' '201307' '201306' '201305'\n",
      " '201304' '201303' '201302' '201301' '201212' '201211' '201210' '201209'\n",
      " '201208' '201207' '201206' '201205' '201204' '201203' '201202' '201201'\n",
      " '201412' '201411' '201410' '201409' '201408' '201407' '201406' '201405'\n",
      " '201404' '201403' '201402' '201401' '201512' '201511' '201510' '201509'\n",
      " '201508' '201507' '201506' '201505' '201504' '201503' '201502' '201501'\n",
      " '201603' '201602' '201601' '201606' '201605' '201604' '201609' '201608'\n",
      " '201607' '201612' '201611' '201610' '201703' '201702' '201701' '201706'\n",
      " '201705' '201704' '201709' '201708' '201707' '201712' '201711' '201710'\n",
      " '201803' '201802' '201801' '201806' '201805' '201804']\n"
     ]
    }
   ],
   "source": [
    "print(df[\"date\"].unique())"
   ]
  },
  {
   "cell_type": "code",
   "execution_count": 74,
   "metadata": {},
   "outputs": [
    {
     "data": {
      "text/plain": [
       "origination_date    0\n",
       "amount_borrowed     0\n",
       "data_source         0\n",
       "date                0\n",
       "dtype: int64"
      ]
     },
     "execution_count": 74,
     "metadata": {},
     "output_type": "execute_result"
    }
   ],
   "source": [
    "null_count = df.isna().sum()\n",
    "null_count"
   ]
  },
  {
   "cell_type": "code",
   "execution_count": 75,
   "metadata": {},
   "outputs": [],
   "source": [
    "grouped = df.groupby(['date'])['amount_borrowed'].sum().reset_index()"
   ]
  },
  {
   "cell_type": "code",
   "execution_count": 78,
   "metadata": {},
   "outputs": [
    {
     "data": {
      "text/html": [
       "<div>\n",
       "<style scoped>\n",
       "    .dataframe tbody tr th:only-of-type {\n",
       "        vertical-align: middle;\n",
       "    }\n",
       "\n",
       "    .dataframe tbody tr th {\n",
       "        vertical-align: top;\n",
       "    }\n",
       "\n",
       "    .dataframe thead th {\n",
       "        text-align: right;\n",
       "    }\n",
       "</style>\n",
       "<table border=\"1\" class=\"dataframe\">\n",
       "  <thead>\n",
       "    <tr style=\"text-align: right;\">\n",
       "      <th></th>\n",
       "      <th>date</th>\n",
       "      <th>amount_borrowed</th>\n",
       "    </tr>\n",
       "  </thead>\n",
       "  <tbody>\n",
       "    <tr>\n",
       "      <th>0</th>\n",
       "      <td>201201</td>\n",
       "      <td>34000575.0</td>\n",
       "    </tr>\n",
       "    <tr>\n",
       "      <th>1</th>\n",
       "      <td>201202</td>\n",
       "      <td>36058175.0</td>\n",
       "    </tr>\n",
       "    <tr>\n",
       "      <th>2</th>\n",
       "      <td>201203</td>\n",
       "      <td>39536300.0</td>\n",
       "    </tr>\n",
       "    <tr>\n",
       "      <th>3</th>\n",
       "      <td>201204</td>\n",
       "      <td>42051125.0</td>\n",
       "    </tr>\n",
       "    <tr>\n",
       "      <th>4</th>\n",
       "      <td>201205</td>\n",
       "      <td>45090825.0</td>\n",
       "    </tr>\n",
       "  </tbody>\n",
       "</table>\n",
       "</div>"
      ],
      "text/plain": [
       "     date  amount_borrowed\n",
       "0  201201       34000575.0\n",
       "1  201202       36058175.0\n",
       "2  201203       39536300.0\n",
       "3  201204       42051125.0\n",
       "4  201205       45090825.0"
      ]
     },
     "execution_count": 78,
     "metadata": {},
     "output_type": "execute_result"
    }
   ],
   "source": [
    "grouped.head()"
   ]
  },
  {
   "cell_type": "code",
   "execution_count": 122,
   "metadata": {},
   "outputs": [],
   "source": [
    "x = grouped.values"
   ]
  },
  {
   "cell_type": "code",
   "execution_count": 123,
   "metadata": {},
   "outputs": [],
   "source": [
    "y = x[:,0]"
   ]
  },
  {
   "cell_type": "code",
   "execution_count": 124,
   "metadata": {},
   "outputs": [],
   "source": [
    "x = x[:,1]"
   ]
  },
  {
   "cell_type": "code",
   "execution_count": 134,
   "metadata": {},
   "outputs": [],
   "source": [
    "def plot_data(r,s,y_pred,test,y_label):\n",
    "    \n",
    "    plot_x = []\n",
    "    for i in range(r,r+s):\n",
    "        plot_x.append(i)\n",
    "        \n",
    "    plt.plot(plot_x,test,label=\"original\")\n",
    "    plt.plot(plot_x,y_pred,label=y_label)\n",
    "    plt.xlabel('Time')\n",
    "    plt.ylabel('Loan Borrowed per Month')\n",
    "    pylab.legend(loc='upper left')   \n",
    "    plt.show()"
   ]
  },
  {
   "cell_type": "code",
   "execution_count": 137,
   "metadata": {},
   "outputs": [],
   "source": [
    "def EWMA(alpha):\n",
    "    \n",
    "    training = x[:25]\n",
    "    test = x[25:]\n",
    "    \n",
    "    r= len(training)\n",
    "    s = len(test)\n",
    "    \n",
    "    error = []\n",
    "    y = []\n",
    "    for i in range(r,r+s):\n",
    "        base = 0\n",
    "        j = i-1\n",
    "        k = 0\n",
    "        while(j >= 0):\n",
    "            base = base+ (x[j]*((1-alpha)**k))\n",
    "            j = j-1 \n",
    "            k = k+1\n",
    "\n",
    "        y_pred = alpha*base\n",
    "        y.append(y_pred)\n",
    "        \n",
    "        error.append((abs(y_pred-x[i])/x[i])*100)\n",
    "        \n",
    "    plot_data(r,s,y,test,\"EWMA(\"+str(alpha)+\")\")\n",
    "    \n",
    "    return sum(error)/len(error)"
   ]
  },
  {
   "cell_type": "code",
   "execution_count": 138,
   "metadata": {},
   "outputs": [
    {
     "data": {
      "image/png": "[encoded data removed]",
      "text/plain": [
       "<Figure size 432x288 with 1 Axes>"
      ]
     },
     "metadata": {
      "needs_background": "light"
     },
     "output_type": "display_data"
    },
    {
     "name": "stdout",
     "output_type": "stream",
     "text": [
      "14.910090672916523\n"
     ]
    }
   ],
   "source": [
    "error = EWMA(0.5)\n",
    "print(error)"
   ]
  },
  {
   "cell_type": "code",
   "execution_count": 111,
   "metadata": {},
   "outputs": [],
   "source": [
    "def train_lr(p,length):\n",
    "    #print(\"jhjd\")\n",
    "    training = []\n",
    "    label = []\n",
    "    \n",
    "    for i in range(length):\n",
    "        if(i+p < length):\n",
    "            #print(\"ghttt\")\n",
    "            training.append([1])\n",
    "            training[i] = training[i]+list(x[i:i+p])\n",
    "            #training.append(x[i:i+144])\n",
    "            label.append(x[i+p])\n",
    "\n",
    "        else:\n",
    "            break\n",
    "            \n",
    "    #print(len(label))\n",
    "    beta=np.matmul(np.linalg.inv(np.matmul(np.transpose(training),training)),np.matmul(np.transpose(training),label))\n",
    "    \n",
    "    return beta"
   ]
  },
  {
   "cell_type": "code",
   "execution_count": 112,
   "metadata": {},
   "outputs": [],
   "source": [
    "def AR(p):\n",
    "    \n",
    "    training = x[:25]\n",
    "    test = x[25:]\n",
    "    \n",
    "    r= len(training)\n",
    "    s = len(test)\n",
    "    \n",
    "    error = []\n",
    "    y = []\n",
    "    for i in range(r,r+s):\n",
    "        \n",
    "        #print(i)\n",
    "        testx = [1]\n",
    "        temp = x[i-p:i]\n",
    "        testx = testx + list(temp)\n",
    "        #print(\"ggg\")\n",
    "        beta = train_lr(p,i)\n",
    "        y_pred=np.matmul(testx,beta)\n",
    "        y.append(y_pred)\n",
    "        \n",
    "        error.append((abs(y_pred-x[i])/x[i])*100)\n",
    "        \n",
    "    plot_data(r,s,y,test,\"AR(\"+str(p)+\")\")\n",
    "    \n",
    "    return sum(error)/len(error)"
   ]
  },
  {
   "cell_type": "code",
   "execution_count": 115,
   "metadata": {},
   "outputs": [
    {
     "data": {
      "image/png": "[encoded data removed]",
      "text/plain": [
       "<Figure size 432x288 with 1 Axes>"
      ]
     },
     "metadata": {
      "needs_background": "light"
     },
     "output_type": "display_data"
    },
    {
     "data": {
      "text/plain": [
       "17.76334419853286"
      ]
     },
     "execution_count": 115,
     "metadata": {},
     "output_type": "execute_result"
    }
   ],
   "source": [
    "AR(2)"
   ]
  },
  {
   "cell_type": "code",
   "execution_count": 116,
   "metadata": {},
   "outputs": [],
   "source": [
    "def Seasonal(S):\n",
    "    \n",
    "    training = x[:25]\n",
    "    test = x[25:]\n",
    "    \n",
    "    r= len(training)\n",
    "    s = len(test)\n",
    "    \n",
    "    error = []\n",
    "    y = []\n",
    "    for i in range(r,r+s):\n",
    "      \n",
    "        y_pred = x[i-S]\n",
    "        y.append(y_pred)\n",
    "\n",
    "        error.append((abs(y_pred-x[i])/x[i])*100)\n",
    "        \n",
    "    plot_data(r,s,y,test,\"Seasonal(\"+str(S)+\")\")\n",
    "    \n",
    "    return sum(error)/len(error)"
   ]
  },
  {
   "cell_type": "code",
   "execution_count": 121,
   "metadata": {},
   "outputs": [
    {
     "data": {
      "image/png": "[encoded data removed]",
      "text/plain": [
       "<Figure size 432x288 with 1 Axes>"
      ]
     },
     "metadata": {
      "needs_background": "light"
     },
     "output_type": "display_data"
    },
    {
     "data": {
      "text/plain": [
       "16.835573625162837"
      ]
     },
     "execution_count": 121,
     "metadata": {},
     "output_type": "execute_result"
    }
   ],
   "source": [
    "Seasonal(3)"
   ]
  }
 ],
 "metadata": {
  "kernelspec": {
   "display_name": "Python 3",
   "language": "python",
   "name": "python3"
  },
  "language_info": {
   "codemirror_mode": {
    "name": "ipython",
    "version": 3
   },
   "file_extension": ".py",
   "mimetype": "text/x-python",
   "name": "python",
   "nbconvert_exporter": "python",
   "pygments_lexer": "ipython3",
   "version": "3.7.0"
  }
 },
 "nbformat": 4,
 "nbformat_minor": 2
}
