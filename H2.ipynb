{
 "cells": [
  {
   "cell_type": "code",
   "execution_count": 1,
   "metadata": {},
   "outputs": [],
   "source": [
    "import pandas as pd\n",
    "import numpy as np\n",
    "import collections\n",
    "df = pd.read_csv('Master_Loan_Summary.csv', engine='python')"
   ]
  },
  {
   "cell_type": "code",
   "execution_count": 2,
   "metadata": {},
   "outputs": [],
   "source": [
    "ppaid=df[\"principal_paid\"]\n",
    "ppaid = list(ppaid)\n",
    "neg = [o for o in ppaid if o < 0 ]\n",
    "ppaid = [x for x in ppaid if x not in neg]\n",
    "\n",
    "\n",
    "ipaid=df[\"interest_paid\"]\n",
    "ipaid=list(ipaid)\n",
    "neg = [o for o in ipaid if o < 0 ]\n",
    "ipaid = [x for x in ipaid if x not in neg]\n",
    "\n"
   ]
  },
  {
   "cell_type": "code",
   "execution_count": 3,
   "metadata": {},
   "outputs": [
    {
     "name": "stdout",
     "output_type": "stream",
     "text": [
      "For No_perm =  100  alpha =  0.05  Both are not from same distribution\n",
      "For No_perm =  1000  alpha =  0.05  Both are not from same distribution\n"
     ]
    }
   ],
   "source": [
    "def permutationTest(d1, d2, no_perm, alpha):\n",
    "    l1 = len(d1)\n",
    "    l2 = len(d2)\n",
    "    d = d1 + d2\n",
    "    Tobs = abs(np.mean(d1) - np.mean(d2))\n",
    "    \n",
    "    count = 0\n",
    "    \n",
    "    for i in range(no_perm):\n",
    "        d = np.random.permutation(d)\n",
    "        Ti = abs( np.mean(d[0:l1]) - np.mean(d[l1:]))\n",
    "        #print(Ti)\n",
    "        if(Ti > Tobs):\n",
    "            count = count + 1\n",
    "    p_value = count / no_perm\n",
    "    \n",
    "    if(p_value <= alpha ):\n",
    "        print('For No_perm = ', no_perm, ' alpha = ', alpha, ' Both are not from same distribution')\n",
    "    else:\n",
    "        print('For No_perm = ', no_perm, ' alpha = ', alpha, ' Both not from same distribution')\n",
    "permutationTest(ipaid, ppaid, 100, 0.05)\n",
    "permutationTest(ipaid, ppaid, 1000, 0.05)"
   ]
  },
  {
   "cell_type": "code",
   "execution_count": null,
   "metadata": {},
   "outputs": [],
   "source": []
  },
  {
   "cell_type": "code",
   "execution_count": null,
   "metadata": {},
   "outputs": [],
   "source": []
  }
 ],
 "metadata": {
  "kernelspec": {
   "display_name": "Python 3",
   "language": "python",
   "name": "python3"
  },
  "language_info": {
   "codemirror_mode": {
    "name": "ipython",
    "version": 3
   },
   "file_extension": ".py",
   "mimetype": "text/x-python",
   "name": "python",
   "nbconvert_exporter": "python",
   "pygments_lexer": "ipython3",
   "version": "3.6.6"
  }
 },
 "nbformat": 4,
 "nbformat_minor": 2
}
